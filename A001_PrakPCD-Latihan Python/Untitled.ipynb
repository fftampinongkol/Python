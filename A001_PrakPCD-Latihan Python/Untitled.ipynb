{
 "cells": [
  {
   "cell_type": "code",
   "execution_count": 1,
   "metadata": {
    "collapsed": true
   },
   "outputs": [],
   "source": [
    "import pywt\n",
    "import cv2\n",
    "import matplotlib.pyplot as plt\n",
    "import numpy as np\n",
    "\n",
    "def plotCoeffs(data, outdir):\n",
    "    rows = len(data)\n",
    "    cols = len(data[0])\n",
    "\n",
    "    ##### spectrum ###########\n",
    "    plt.plot(np.ravel(data))\n",
    "    plt.title('coeff')\n",
    "    plt.xlim(0,rows*cols)\n",
    "    plt.xlabel('Position')\n",
    "    plt.ylabel('Frequency')\n",
    "    plt.savefig(outdir+'_coeff.png')\n",
    "    plt.close()\n",
    "    plt.close('all')\n",
    "    plt.gcf().clear()\n",
    "    ##### Contour ##############\n",
    "    ax1 = plt.subplot(111)\n",
    "    ax1.imshow(data, cmap='gray')\n",
    "    plt.title('dim = '+ str(cols) + 'x' + str(rows))\n",
    "    plt.savefig(outdir+'_contour.png')\n",
    "    plt.close()\n",
    "    plt.close('all')\n",
    "    plt.gcf().clear()\n",
    "\n",
    "image= cv2.imread(\"Datatest03.jpg\")\n",
    "b,g,r = cv2.split(image)\n",
    "rg = r-g\n",
    "coeff = pywt.dwt2(rg,\"db2\")\n",
    "LL,(LH,HL,HH) = coeff\n",
    "# print (LL)\n",
    "plotCoeffs(LL,'ll_b')\n",
    "plotCoeffs(LH,'lh_b')\n",
    "plotCoeffs(HL,'hl_b')\n",
    "plotCoeffs(HH,'hh_b')"
   ]
  },
  {
   "cell_type": "code",
   "execution_count": null,
   "metadata": {
    "collapsed": true
   },
   "outputs": [],
   "source": []
  }
 ],
 "metadata": {
  "kernelspec": {
   "display_name": "Python [default]",
   "language": "python",
   "name": "python3"
  },
  "language_info": {
   "codemirror_mode": {
    "name": "ipython",
    "version": 3
   },
   "file_extension": ".py",
   "mimetype": "text/x-python",
   "name": "python",
   "nbconvert_exporter": "python",
   "pygments_lexer": "ipython3",
   "version": "3.5.2"
  }
 },
 "nbformat": 4,
 "nbformat_minor": 1
}
